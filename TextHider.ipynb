{
 "cells": [
  {
   "cell_type": "code",
   "execution_count": 17,
   "id": "31b8668c-eb40-4347-adcb-9f04e1e96b06",
   "metadata": {},
   "outputs": [
    {
     "name": "stdout",
     "output_type": "stream",
     "text": [
      "-> Secret message encoded successfully!\n",
      "\n",
      "[Stego Text]\n",
      "Lorem ipsum dolor sit amet, consectetur adipiscing elit, sed do eiusmod tempor incididunt ut labore et dolore magna aliqua.‌​‌‌​‌‌​‌‌​‌‌‌‌‌‌‌​​​​‌‌‌‌​​‌‌​​‌‌​‌‌‌‌‌‌​‌‌‌‌‌​‌​‌‌​‌‌​‌​‌​‌‌​​‌‌​‌​​​‌\n",
      "-> Extracted Message: I <3 AIS.\n"
     ]
    }
   ],
   "source": [
    "def encode_text(cover_text, hidden_message):\n",
    "    zero_width_space = \"\\u200B\"  # Zero-Width Space (binary 1)\n",
    "    zero_width_non_joiner = \"\\u200C\"  # Zero-Width Non-Joiner (binary 0)\n",
    "\n",
    "    # Convert hidden message to binary\n",
    "    binary_message = ''.join(format(ord(char), '08b') for char in hidden_message)\n",
    "\n",
    "    # Convert binary to zero-width characters\n",
    "    stego_message = ''.join(zero_width_space if bit == '1' else zero_width_non_joiner for bit in binary_message)\n",
    "\n",
    "    # Embed the hidden message at the end of the cover text\n",
    "    encoded_text = cover_text + stego_message\n",
    "\n",
    "    print(\"-> Secret message encoded successfully!\")\n",
    "    return encoded_text\n",
    "\n",
    "\n",
    "def decode_text(stego_text):\n",
    "    zero_width_space = \"\\u200B\"\n",
    "    zero_width_non_joiner = \"\\u200C\"\n",
    "\n",
    "    # Extract hidden binary data\n",
    "    binary_message = ''.join('1' if char == zero_width_space else '0' if char == zero_width_non_joiner else '' for char in stego_text)\n",
    "\n",
    "    # Convert binary to text\n",
    "    chars = [binary_message[i:i+8] for i in range(0, len(binary_message), 8)]\n",
    "    extracted_message = ''.join(chr(int(char, 2)) for char in chars if char)\n",
    "\n",
    "    print(\"-> Extracted Message:\", extracted_message)\n",
    "\n",
    "\n",
    "# Example Usage\n",
    "cover_text = \"Lorem ipsum dolor sit amet, consectetur adipiscing elit, sed do eiusmod tempor incididunt ut labore et dolore magna aliqua.\"\n",
    "hidden_message = \"I <3 AIS.\"\n",
    "\n",
    "# Encode\n",
    "stego_text = encode_text(cover_text, hidden_message)\n",
    "print(\"\\n[Stego Text]\")\n",
    "print(stego_text)\n",
    "\n",
    "# Decode\n",
    "decode_text(stego_text)\n"
   ]
  },
  {
   "cell_type": "code",
   "execution_count": null,
   "id": "89331bdd-d44d-4111-b2c7-d1857500c00a",
   "metadata": {},
   "outputs": [],
   "source": []
  }
 ],
 "metadata": {
  "kernelspec": {
   "display_name": "Python 3 (ipykernel)",
   "language": "python",
   "name": "python3"
  },
  "language_info": {
   "codemirror_mode": {
    "name": "ipython",
    "version": 3
   },
   "file_extension": ".py",
   "mimetype": "text/x-python",
   "name": "python",
   "nbconvert_exporter": "python",
   "pygments_lexer": "ipython3",
   "version": "3.11.9"
  }
 },
 "nbformat": 4,
 "nbformat_minor": 5
}
