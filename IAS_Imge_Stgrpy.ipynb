{
 "cells": [
  {
   "cell_type": "code",
   "execution_count": 1,
   "id": "b668a285-4f57-435f-993e-84bf78e7d509",
   "metadata": {},
   "outputs": [],
   "source": [
    "import cv2\n",
    "import numpy as np\n",
    "import matplotlib.pyplot as plt\n",
    "\n",
    "def read_message_from_file(file_path):\n",
    "    with open(file_path, \"r\", encoding=\"utf-8\") as file:\n",
    "        return file.read()\n",
    "\n",
    "def encode_message(image_path, message_file, output_image):\n",
    "    img = cv2.imread(\"C:/Users/John Omar/Music/Notebook/image.png\")\n",
    "    if img is None:\n",
    "        raise FileNotFoundError(f\"Error: Unable to load image from {image_path}\")\n",
    "    \n",
    "    # Read the message and append a delimiter\n",
    "    message = read_message_from_file(message_file) + \"#####\"\n",
    "    binary_message = \"\".join(format(ord(c), \"08b\") for c in message)\n",
    "    \n",
    "    data_index = 0\n",
    "    total_bits = len(binary_message)\n",
    "    \n",
    "    for row in img:\n",
    "        for pixel in row:\n",
    "            for channel in range(3):  # Iterate through RGB channels\n",
    "                if data_index < total_bits:\n",
    "                    pixel[channel] = (pixel[channel] & ~1) | int(binary_message[data_index])\n",
    "                    data_index += 1\n",
    "                else:\n",
    "                    break\n",
    "    \n",
    "    cv2.imwrite(output_image, img)\n",
    "    print(\"Message encoded successfully!\")"
   ]
  },
  {
   "cell_type": "code",
   "execution_count": 2,
   "id": "7d92c1a5-f8ec-42c2-8ca1-1d8b1d5ccd6b",
   "metadata": {},
   "outputs": [
    {
     "name": "stdout",
     "output_type": "stream",
     "text": [
      "Message encoded successfully!\n",
      "Hidden message: I <3 IAS!\n"
     ]
    }
   ],
   "source": [
    "def decode_message(image_path):\n",
    "    img = cv2.imread(image_path)\n",
    "    if img is None:\n",
    "        raise FileNotFoundError(f\"Error: Unable to load image from {image_path}\")\n",
    "    \n",
    "    binary_message = \"\"\n",
    "    \n",
    "    for row in img:\n",
    "        for pixel in row:\n",
    "            for channel in range(3):  # Iterate through RGB channels\n",
    "                binary_message += str(pixel[channel] & 1)  # Extract LSB\n",
    "    \n",
    "    # Convert binary to text\n",
    "    message = \"\"\n",
    "    for i in range(0, len(binary_message), 8):\n",
    "        byte = binary_message[i:i+8]\n",
    "        char = chr(int(byte, 2))\n",
    "        message += char\n",
    "        if message.endswith(\"#####\"):  # Stop at delimiter\n",
    "            return message[:-5]\n",
    "    \n",
    "    return \"No hidden message found.\"\n",
    "\n",
    "# Example of Usage\n",
    "input_image = \"C:/Users/John Omar/Music/Notebook/image.png\"\n",
    "encoded_image = \"C:/Users/John Omar/Music/Notebook/encoded_image.png\"\n",
    "hidden_message_file = \"C:/Users/John Omar/Music/Notebook/message.txt\"\n",
    "\n",
    "# Encode the message\n",
    "encode_message(input_image, hidden_message_file, encoded_image)\n",
    "\n",
    "# Decode the message\n",
    "decoded_message = decode_message(encoded_image)\n",
    "print(\"Hidden message:\", decoded_message)\n"
   ]
  },
  {
   "cell_type": "code",
   "execution_count": null,
   "id": "6258f57c-813a-47fe-8935-8a79e8cae890",
   "metadata": {},
   "outputs": [],
   "source": []
  },
  {
   "cell_type": "code",
   "execution_count": null,
   "id": "d948827c-cf2c-4f84-86fc-66792a9c242d",
   "metadata": {},
   "outputs": [],
   "source": []
  }
 ],
 "metadata": {
  "kernelspec": {
   "display_name": "Python [conda env:base] *",
   "language": "python",
   "name": "conda-base-py"
  },
  "language_info": {
   "codemirror_mode": {
    "name": "ipython",
    "version": 3
   },
   "file_extension": ".py",
   "mimetype": "text/x-python",
   "name": "python",
   "nbconvert_exporter": "python",
   "pygments_lexer": "ipython3",
   "version": "3.12.7"
  }
 },
 "nbformat": 4,
 "nbformat_minor": 5
}
